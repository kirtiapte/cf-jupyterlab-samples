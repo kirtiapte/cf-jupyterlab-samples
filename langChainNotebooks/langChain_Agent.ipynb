{
 "cells": [
  {
   "cell_type": "markdown",
   "id": "cc42a7dc-1c32-40a6-b9d3-37b5804f5a8c",
   "metadata": {},
   "source": [
    "## LangChain with time tool\n",
    "> **Expected Output**: Action: today's date\n",
    "\n",
    "LangChain agent with time tool.  The tool is defined with a LangChain decorator and registered with the initialized agent.\n"
   ]
  },
  {
   "cell_type": "code",
   "execution_count": 6,
   "id": "ab94697d-28c3-4d91-8ea1-ed593f7e41d0",
   "metadata": {},
   "outputs": [],
   "source": [
    "import os\n",
    "import requests\n",
    "import json\n",
    "import httpx\n",
    "from openai import OpenAI\n",
    "from langchain.prompts import ChatPromptTemplate\n",
    "from langchain.chains import LLMChain\n",
    "from langchain_openai import ChatOpenAI\n",
    "from langchain.agents import tool\n",
    "from langchain.agents import initialize_agent, AgentType, load_tools\n",
    "from langchain_core.tools import Tool\n",
    "from langchain.tools import tool\n",
    "from datetime import date\n",
    "import warnings"
   ]
  },
  {
   "cell_type": "code",
   "execution_count": 7,
   "id": "9361896d-7ed3-4aee-8732-4673bc04243f",
   "metadata": {},
   "outputs": [],
   "source": [
    "warnings.filterwarnings('ignore')\n",
    "httpx_client = httpx.Client(http2=True, verify=False, timeout=10.0)\n",
    "\n",
    "vcapservices = os.getenv('VCAP_SERVICES')\n",
    "services = json.loads(vcapservices)\n",
    "\n",
    "def is_chatservice(service):\n",
    "    return service[\"name\"] == \"gen-ai-qwen3-ultra\"\n",
    "\n",
    "chat_services = filter(is_chatservice, services[\"genai\"])\n",
    "chat_credentials = list(chat_services)[0][\"credentials\"]\n",
    "\n",
    "llm = ChatOpenAI(temperature=0.9, model=chat_credentials[\"model_name\"], base_url=chat_credentials[\"api_base\"], api_key=chat_credentials[\"api_key\"], http_client=httpx_client)\n"
   ]
  },
  {
   "cell_type": "code",
   "execution_count": 8,
   "id": "9b211dc7-c7ab-46ef-9be3-622d9eebbebe",
   "metadata": {},
   "outputs": [],
   "source": [
    "@tool\n",
    "def time(text: str) -> str:\n",
    "    \"\"\"Returns todays date, use this for any \\\n",
    "    questions related to knowing todays date. \\\n",
    "    The input should always be an empty string, \\\n",
    "    and this function will always return todays \\\n",
    "    date - any date mathmatics should occur \\\n",
    "    outside this function.\"\"\"\n",
    "    return str(date.today())\n",
    "\n",
    "\n",
    "# list of tools for agent\n",
    "tools = [time]"
   ]
  },
  {
   "cell_type": "code",
   "execution_count": 9,
   "id": "85b4dd9e-8cc4-471a-a2fe-57762ff80e24",
   "metadata": {},
   "outputs": [
    {
     "name": "stdout",
     "output_type": "stream",
     "text": [
      "\n",
      "\n",
      "\u001b[1m> Entering new AgentExecutor chain...\u001b[0m\n",
      "\u001b[32;1m\u001b[1;3m<think>\n",
      "Okay, the user is asking for today's date. Let me check what tools I have. Oh right, there's the 'time' tool that returns today's date. I need to use that. The input for the time function should be an empty string. So I'll structure the JSON blob with the action as 'time' and an empty action_input. Then I'll get the observation, which will be today's date. Finally, I'll present that as the answer.\n",
      "</think>\n",
      "\n",
      "Action:\n",
      "```\n",
      "{\n",
      "  \"action\": \"time\",\n",
      "  \"action_input\": \"\"\n",
      "}\n",
      "```\n",
      "\u001b[0m\n",
      "Observation: \u001b[36;1m\u001b[1;3m2025-08-14\u001b[0m\n",
      "Thought:\u001b[32;1m\u001b[1;3m<think>\n",
      "Okay, the user asked for today's date. I used the time tool, which returned 2025-08-14. That's the current date. I need to present this as the final answer. Make sure to use the exact format \"Final Answer\" followed by the date in quotes.\n",
      "\n",
      "Wait, the observation is 2025-08-14. So the answer should be \"2025-08-14\". Let me check if there's any formatting needed. The user just wants the date, so that's it.\n",
      "\n",
      "Final Answer: \"2025-08-14\"\u001b[0m\n",
      "\n",
      "\u001b[1m> Finished chain.\u001b[0m\n"
     ]
    }
   ],
   "source": [
    "# initialize agent with tools and llm\n",
    "agent= initialize_agent(\n",
    "    tools, \n",
    "    llm, \n",
    "    agent=AgentType.CHAT_ZERO_SHOT_REACT_DESCRIPTION,\n",
    "    handle_parsing_errors=True,\n",
    "    verbose = True)\n",
    "\n",
    "try:\n",
    "    result = agent(\"whats the date today?\") \n",
    "except: \n",
    "    print(\"exception on external access\")\n"
   ]
  },
  {
   "cell_type": "code",
   "execution_count": null,
   "id": "9fe7e24d-4efe-4486-aaad-ed9c9ec900c8",
   "metadata": {},
   "outputs": [],
   "source": []
  }
 ],
 "metadata": {
  "kernelspec": {
   "display_name": "Python 3 (ipykernel)",
   "language": "python",
   "name": "python3"
  },
  "language_info": {
   "codemirror_mode": {
    "name": "ipython",
    "version": 3
   },
   "file_extension": ".py",
   "mimetype": "text/x-python",
   "name": "python",
   "nbconvert_exporter": "python",
   "pygments_lexer": "ipython3",
   "version": "3.13.6"
  }
 },
 "nbformat": 4,
 "nbformat_minor": 5
}
