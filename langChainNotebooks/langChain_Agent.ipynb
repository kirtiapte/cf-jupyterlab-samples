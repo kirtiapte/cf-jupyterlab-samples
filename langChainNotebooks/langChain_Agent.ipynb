{
 "cells": [
  {
   "cell_type": "markdown",
   "id": "cc42a7dc-1c32-40a6-b9d3-37b5804f5a8c",
   "metadata": {},
   "source": [
    "## LangChain with time tool for the Boeing demo\n",
    "> **Expected Output**: Action: today's date\n",
    "\n",
    "LangChain agent with time tool.  The tool is defined with a LangChain decorator and registered with the initialized agent.\n"
   ]
  },
  {
   "cell_type": "code",
   "execution_count": 13,
   "id": "ab94697d-28c3-4d91-8ea1-ed593f7e41d0",
   "metadata": {},
   "outputs": [],
   "source": [
    "import os\n",
    "import requests\n",
    "import json\n",
    "import httpx\n",
    "from openai import OpenAI\n",
    "from langchain.prompts import ChatPromptTemplate\n",
    "from langchain.chains import LLMChain\n",
    "from langchain_openai import ChatOpenAI\n",
    "from langchain.agents import tool\n",
    "from langchain.agents import initialize_agent, AgentType, load_tools\n",
    "from langchain_core.tools import Tool\n",
    "from langchain.tools import tool\n",
    "from datetime import date\n",
    "import warnings\n",
    "from cfenv import AppEnv"
   ]
  },
  {
   "cell_type": "code",
   "execution_count": 15,
   "id": "8356e757-5972-44d2-9a91-a753a7b0e676",
   "metadata": {},
   "outputs": [],
   "source": [
    "# Load CF environment\n",
    "env = AppEnv()\n",
    "\n",
    "# Get bound service \"gen-ai-qwen3-ultra\"\n",
    "chat_service = env.get_service(name=\"gen-ai-qwen3-ultra\")\n",
    "chat_credentials = chat_service.credentials\n",
    "\n",
    "# Optional: configure custom http client\n",
    "httpx_client = httpx.Client(verify=False)\n",
    "\n",
    "# Initialize LLM with credentials from cfenv\n",
    "llm = ChatOpenAI(\n",
    "    temperature=0.9,\n",
    "    model=chat_credentials[\"model_name\"],\n",
    "    base_url=chat_credentials[\"api_base\"],\n",
    "    api_key=chat_credentials[\"api_key\"],\n",
    "    http_client=httpx_client\n",
    ")"
   ]
  },
  {
   "cell_type": "code",
   "execution_count": 16,
   "id": "9b211dc7-c7ab-46ef-9be3-622d9eebbebe",
   "metadata": {},
   "outputs": [],
   "source": [
    "@tool\n",
    "def time(text: str) -> str:\n",
    "    \"\"\"Returns todays date, use this for any \\\n",
    "    questions related to knowing todays date. \\\n",
    "    The input should always be an empty string, \\\n",
    "    and this function will always return todays \\\n",
    "    date - any date mathmatics should occur \\\n",
    "    outside this function.\"\"\"\n",
    "    return str(date.today())\n",
    "\n",
    "\n",
    "# list of tools for agent\n",
    "tools = [time]"
   ]
  },
  {
   "cell_type": "code",
   "execution_count": 17,
   "id": "85b4dd9e-8cc4-471a-a2fe-57762ff80e24",
   "metadata": {},
   "outputs": [
    {
     "name": "stdout",
     "output_type": "stream",
     "text": [
      "\n",
      "\n",
      "\u001b[1m> Entering new AgentExecutor chain...\u001b[0m\n",
      "\u001b[32;1m\u001b[1;3m<think>\n",
      "Okay, the user is asking for today's date. I need to use the time tool to get that. The tool requires an empty string as input, so I'll set action_input to an empty string. Let me make sure the JSON is formatted correctly with the action key. Once I get the date from the tool, I can present it as the final answer.\n",
      "</think>\n",
      "\n",
      "Action:\n",
      "```\n",
      "{\n",
      "  \"action\": \"time\",\n",
      "  \"action_input\": \"\"\n",
      "}\n",
      "```\n",
      "\n",
      "\u001b[0m\n",
      "Observation: \u001b[36;1m\u001b[1;3m2025-09-09\u001b[0m\n",
      "Thought:\u001b[32;1m\u001b[1;3m<think>\n",
      "Okay, the user asked for today's date. I used the time tool, which returned 2025-09-09. So the final answer should be that date.\n",
      "</think>\n",
      "\n",
      "Final Answer: Today's date is 2025-09-09.\u001b[0m\n",
      "\n",
      "\u001b[1m> Finished chain.\u001b[0m\n"
     ]
    }
   ],
   "source": [
    "# initialize agent with tools and llm\n",
    "agent= initialize_agent(\n",
    "    tools, \n",
    "    llm, \n",
    "    agent=AgentType.CHAT_ZERO_SHOT_REACT_DESCRIPTION,\n",
    "    handle_parsing_errors=True,\n",
    "    verbose = True)\n",
    "\n",
    "try:\n",
    "    result = agent(\"whats the date today?\") \n",
    "except: \n",
    "    print(\"exception on external access\")\n"
   ]
  },
  {
   "cell_type": "code",
   "execution_count": null,
   "id": "9fe7e24d-4efe-4486-aaad-ed9c9ec900c8",
   "metadata": {},
   "outputs": [],
   "source": []
  }
 ],
 "metadata": {
  "kernelspec": {
   "display_name": "Python 3 (ipykernel)",
   "language": "python",
   "name": "python3"
  },
  "language_info": {
   "codemirror_mode": {
    "name": "ipython",
    "version": 3
   },
   "file_extension": ".py",
   "mimetype": "text/x-python",
   "name": "python",
   "nbconvert_exporter": "python",
   "pygments_lexer": "ipython3",
   "version": "3.13.7"
  }
 },
 "nbformat": 4,
 "nbformat_minor": 5
}
