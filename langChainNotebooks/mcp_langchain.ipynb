{
 "cells": [
  {
   "cell_type": "code",
   "execution_count": 1,
   "id": "62c2d2e7-d546-4541-88c2-7ce8f3bb360e",
   "metadata": {},
   "outputs": [],
   "source": [
    "import os\n",
    "import requests\n",
    "import json\n",
    "from openai import OpenAI\n",
    "import httpx\n",
    "from langchain.prompts import ChatPromptTemplate\n",
    "from langchain.chains import LLMChain\n",
    "from langchain_openai import ChatOpenAI\n",
    "from langchain.agents import tool\n",
    "from langchain.agents import initialize_agent, AgentType, load_tools\n",
    "from langchain_core.tools import Tool\n",
    "from langchain.tools import tool\n",
    "from datetime import date\n",
    "import asyncio\n",
    "from langchain_mcp_adapters.client import MultiServerMCPClient\n",
    "from langgraph.prebuilt import create_react_agent\n",
    "import nest_asyncio\n",
    "import ssl"
   ]
  },
  {
   "cell_type": "code",
   "execution_count": 2,
   "id": "3bce8c93-70c3-4f41-9ea3-9ccf33838441",
   "metadata": {},
   "outputs": [],
   "source": [
    "# Set environment variables to disable SSL verification\n",
    "os.environ['PYTHONHTTPSVERIFY'] = '0'\n",
    "os.environ['CURL_CA_BUNDLE'] = ''\n",
    "\n",
    "# Create a custom SSL context that doesn't verify certificates\n",
    "ssl_context = ssl.create_default_context()\n",
    "ssl_context.check_hostname = False\n",
    "ssl_context.verify_mode = ssl.CERT_NONE\n",
    "\n",
    "# Override the default SSL context\n",
    "ssl._create_default_https_context = lambda: ssl_context"
   ]
  },
  {
   "cell_type": "code",
   "execution_count": 3,
   "id": "1dd5bddc-8788-4be4-bbc1-8b2c6e6d4d35",
   "metadata": {},
   "outputs": [
    {
     "name": "stdout",
     "output_type": "stream",
     "text": [
      "https://time-mcp-server.apps.tas-ndc.kuhn-labs.com\n",
      "https://petclinic-mcp.apps.tas-ndc.kuhn-labs.com\n",
      "MCP Tools: [StructuredTool(name='getCurrentTime', description='Get the current time', args_schema={'type': 'object', 'properties': {}, 'required': [], 'additionalProperties': False}, response_format='content_and_artifact', coroutine=<function convert_mcp_tool_to_langchain_tool.<locals>.call_tool at 0x7f3e7b2c7d80>), StructuredTool(name='fetch_petsByStatus', description='Retrieve pets from petstore api', args_schema={'properties': {'status': {'title': 'Status', 'type': 'string'}}, 'required': ['status'], 'title': 'fetch_petsByStatusArguments', 'type': 'object'}, response_format='content_and_artifact', coroutine=<function convert_mcp_tool_to_langchain_tool.<locals>.call_tool at 0x7f3e7b2c6ac0>)]\n"
     ]
    }
   ],
   "source": [
    "nest_asyncio.apply()\n",
    "\n",
    "test_client = httpx.Client(verify=False, timeout=30.0)\n",
    "\n",
    "vcapservices = os.getenv('VCAP_SERVICES')\n",
    "services = json.loads(vcapservices)\n",
    "\n",
    "def is_chatservice(service):\n",
    "    return service[\"name\"] == \"gen-ai-qwen3-ultra\"\n",
    "\n",
    "chat_services = filter(is_chatservice, services[\"genai\"])\n",
    "chat_credentials = list(chat_services)[0][\"credentials\"]\n",
    "\n",
    "llm = ChatOpenAI(temperature=0.9, model=chat_credentials[\"model_name\"], base_url=chat_credentials[\"api_base\"], api_key=chat_credentials[\"api_key\"], http_client=test_client)\n",
    "\n",
    "def is_userprovided(service):\n",
    "    return service[\"name\"] == \"time-mcp-server\"\n",
    "user_provided_services = filter(is_userprovided, services[\"user-provided\"])\n",
    "user_provided_credentials = list(user_provided_services)[0][\"credentials\"]\n",
    "\n",
    "print(user_provided_credentials[\"mcpServiceURL\"])\n",
    "time_mcp = user_provided_credentials[\"mcpServiceURL\"] + \"/sse\"\n",
    "\n",
    "def is_petclinic_userprovided(service):\n",
    "    return service[\"name\"] == \"petclinic-mcp-server\"\n",
    "user_provided_petclinic_services = filter(is_petclinic_userprovided, services[\"user-provided\"])\n",
    "user_provided_petclinic_credentials = list(user_provided_petclinic_services)[0][\"credentials\"]\n",
    "\n",
    "print(user_provided_petclinic_credentials[\"mcpServiceURL\"])\n",
    "petclinic_mcp = user_provided_petclinic_credentials[\"mcpServiceURL\"] + \"/sse\"\n",
    "\n",
    "# Async HTTP client for MCP\n",
    "#async_client = httpx.AsyncClient(http2=True, verify=False, timeout=10.0)\n",
    "# Patch httpx globally for MCP client\n",
    "original_async_client = httpx.AsyncClient\n",
    "\n",
    "class NoSSLAsyncClient(httpx.AsyncClient):\n",
    "    def __init__(self, **kwargs):\n",
    "         kwargs['verify'] = False\n",
    "         super().__init__(**kwargs)\n",
    "\n",
    "httpx.AsyncClient = NoSSLAsyncClient\n",
    "\n",
    "# Create MCP client\n",
    "client = MultiServerMCPClient(\n",
    "    {\n",
    "        \"time\": {\n",
    "            \"transport\": \"sse\",\n",
    "            \"url\": time_mcp\n",
    "        },\n",
    "        \"petclinic\": {\n",
    "            \"transport\": \"sse\",\n",
    "            \"url\": petclinic_mcp\n",
    "        }\n",
    "    }\n",
    ")\n",
    "#Fetch and print tools\n",
    "tools = await client.get_tools()\n",
    "print(\"MCP Tools:\", tools)\n"
   ]
  },
  {
   "cell_type": "code",
   "execution_count": 5,
   "id": "1231ee65-6d5b-478d-8019-eaae50160706",
   "metadata": {},
   "outputs": [
    {
     "name": "stdout",
     "output_type": "stream",
     "text": [
      "Time tool result: [2025,8,21,23,9,26,347483305]\n",
      "Pet tool result: ['{\\n  \"id\": 7,\\n  \"category\": {\\n    \"id\": 4,\\n    \"name\": \"Lions\"\\n  },\\n  \"name\": \"Lion 1\",\\n  \"photoUrls\": [\\n    \"url1\",\\n    \"url2\"\\n  ],\\n  \"tags\": [\\n    {\\n      \"id\": 1,\\n      \"name\": \"tag1\"\\n    },\\n    {\\n      \"id\": 2,\\n      \"name\": \"tag2\"\\n    }\\n  ],\\n  \"status\": \"available\"\\n}', '{\\n  \"id\": 87314539,\\n  \"category\": {\\n    \"id\": 1,\\n    \"name\": \"Dogs\"\\n  },\\n  \"name\": \"doggie-1755734913463\",\\n  \"photoUrls\": [\\n    \"https://cdn.sanity.io/images/5vm5yn1d/pro/5cb1f9400891d9da5a4926d7814bd1b89127ecba-1300x867.jpg?fm=webp&q=80\"\\n  ],\\n  \"tags\": [\\n    {\\n      \"id\": 0,\\n      \"name\": \"labrador\"\\n    }\\n  ],\\n  \"status\": \"available\"\\n}', '{\\n  \"id\": 26178971,\\n  \"category\": {\\n    \"id\": 1,\\n    \"name\": \"Dogs\"\\n  },\\n  \"name\": \"doggie-1755737200972\",\\n  \"photoUrls\": [\\n    \"https://cdn.sanity.io/images/5vm5yn1d/pro/5cb1f9400891d9da5a4926d7814bd1b89127ecba-1300x867.jpg?fm=webp&q=80\"\\n  ],\\n  \"tags\": [\\n    {\\n      \"id\": 0,\\n      \"name\": \"labrador\"\\n    }\\n  ],\\n  \"status\": \"available\"\\n}', '{\\n  \"id\": 32876316,\\n  \"category\": {\\n    \"id\": 1,\\n    \"name\": \"Dogs\"\\n  },\\n  \"name\": \"doggie-1755737343336\",\\n  \"photoUrls\": [\\n    \"https://cdn.sanity.io/images/5vm5yn1d/pro/5cb1f9400891d9da5a4926d7814bd1b89127ecba-1300x867.jpg?fm=webp&q=80\"\\n  ],\\n  \"tags\": [\\n    {\\n      \"id\": 0,\\n      \"name\": \"labrador\"\\n    }\\n  ],\\n  \"status\": \"available\"\\n}', '{\\n  \"id\": 54066437,\\n  \"category\": {\\n    \"id\": 1,\\n    \"name\": \"Dogs\"\\n  },\\n  \"name\": \"doggie-1755737406985\",\\n  \"photoUrls\": [\\n    \"https://cdn.sanity.io/images/5vm5yn1d/pro/5cb1f9400891d9da5a4926d7814bd1b89127ecba-1300x867.jpg?fm=webp&q=80\"\\n  ],\\n  \"tags\": [\\n    {\\n      \"id\": 0,\\n      \"name\": \"labrador\"\\n    }\\n  ],\\n  \"status\": \"available\"\\n}', '{\\n  \"id\": 72847720,\\n  \"category\": {\\n    \"id\": 1,\\n    \"name\": \"Dogs\"\\n  },\\n  \"name\": \"doggie-1755737832303\",\\n  \"photoUrls\": [\\n    \"https://cdn.sanity.io/images/5vm5yn1d/pro/5cb1f9400891d9da5a4926d7814bd1b89127ecba-1300x867.jpg?fm=webp&q=80\"\\n  ],\\n  \"tags\": [\\n    {\\n      \"id\": 0,\\n      \"name\": \"labrador\"\\n    }\\n  ],\\n  \"status\": \"available\"\\n}', '{\\n  \"id\": 13306019,\\n  \"category\": {\\n    \"id\": 1,\\n    \"name\": \"Dogs\"\\n  },\\n  \"name\": \"doggie-1755738042582\",\\n  \"photoUrls\": [\\n    \"https://cdn.sanity.io/images/5vm5yn1d/pro/5cb1f9400891d9da5a4926d7814bd1b89127ecba-1300x867.jpg?fm=webp&q=80\"\\n  ],\\n  \"tags\": [\\n    {\\n      \"id\": 0,\\n      \"name\": \"labrador\"\\n    }\\n  ],\\n  \"status\": \"available\"\\n}', '{\\n  \"id\": 84836253,\\n  \"category\": {\\n    \"id\": 1,\\n    \"name\": \"Dogs\"\\n  },\\n  \"name\": \"doggie-1755739151662\",\\n  \"photoUrls\": [\\n    \"https://cdn.sanity.io/images/5vm5yn1d/pro/5cb1f9400891d9da5a4926d7814bd1b89127ecba-1300x867.jpg?fm=webp&q=80\"\\n  ],\\n  \"tags\": [\\n    {\\n      \"id\": 0,\\n      \"name\": \"labrador\"\\n    }\\n  ],\\n  \"status\": \"available\"\\n}', '{\\n  \"id\": 503,\\n  \"category\": {\\n    \"id\": 1,\\n    \"name\": \"Dog\"\\n  },\\n  \"name\": \"Bella\",\\n  \"photoUrls\": [\\n    \"https://example.com/photo1.jpg\",\\n    \"https://example.com/photo2.jpg\"\\n  ],\\n  \"tags\": [\\n    {\\n      \"id\": 1,\\n      \"name\": \"Cute\"\\n    },\\n    {\\n      \"id\": 2,\\n      \"name\": \"Small\"\\n    }\\n  ],\\n  \"status\": \"available\"\\n}', '{\\n  \"id\": 876,\\n  \"category\": {\\n    \"id\": 1,\\n    \"name\": \"Dogs\"\\n  },\\n  \"name\": \" Coco \",\\n  \"photoUrls\": [\\n    \"https://example.com/photos/fluffy1.jpg\"\\n  ],\\n  \"tags\": [\\n    {\\n      \"id\": 1,\\n      \"name\": \"friendly\"\\n    }\\n  ],\\n  \"status\": \"available\"\\n}', '{\\n  \"id\": 654,\\n  \"name\": \"Chanel\",\\n  \"photoUrls\": [\\n    \"[string]\"\\n  ],\\n  \"tags\": [\\n    \"[{name=string\",\\n    \" id=0}]\"\\n  ],\\n  \"status\": \"available\"\\n}', '{\\n  \"id\": 1160,\\n  \"category\": {\\n    \"id\": 1,\\n    \"name\": \"Dogs\"\\n  },\\n  \"name\": \"doggie\",\\n  \"photoUrls\": [\\n    \"string\"\\n  ],\\n  \"tags\": [\\n    {\\n      \"id\": 0,\\n      \"name\": \"string\"\\n    }\\n  ],\\n  \"status\": \"available\"\\n}', '{\\n  \"id\": 69802,\\n  \"category\": {\\n    \"id\": 1,\\n    \"name\": \"Dogs\"\\n  },\\n  \"name\": \"doggie\",\\n  \"photoUrls\": [\\n    \"string\"\\n  ],\\n  \"tags\": [\\n    {\\n      \"id\": 0,\\n      \"name\": \"string\"\\n    }\\n  ],\\n  \"status\": \"available\"\\n}', '{\\n  \"id\": 83897151,\\n  \"category\": {\\n    \"id\": 1,\\n    \"name\": \"Dogs\"\\n  },\\n  \"name\": \"doggie-1755758394147\",\\n  \"photoUrls\": [\\n    \"https://cdn.sanity.io/images/5vm5yn1d/pro/5cb1f9400891d9da5a4926d7814bd1b89127ecba-1300x867.jpg?fm=webp&q=80\"\\n  ],\\n  \"tags\": [\\n    {\\n      \"id\": 0,\\n      \"name\": \"labrador\"\\n    }\\n  ],\\n  \"status\": \"available\"\\n}', '{\\n  \"id\": 10082322,\\n  \"category\": {\\n    \"id\": 1,\\n    \"name\": \"Dogs\"\\n  },\\n  \"name\": \"doggie-1755759881426\",\\n  \"photoUrls\": [\\n    \"https://cdn.sanity.io/images/5vm5yn1d/pro/5cb1f9400891d9da5a4926d7814bd1b89127ecba-1300x867.jpg?fm=webp&q=80\"\\n  ],\\n  \"tags\": [\\n    {\\n      \"id\": 0,\\n      \"name\": \"labrador\"\\n    }\\n  ],\\n  \"status\": \"available\"\\n}', '{\\n  \"id\": 22559353,\\n  \"category\": {\\n    \"id\": 3,\\n    \"name\": \"Birds\"\\n  },\\n  \"name\": \"doggie-1755760958673\",\\n  \"photoUrls\": [\\n    \"https://loremflickr.com/1671/1282?lock=516741420322791\"\\n  ],\\n  \"tags\": [\\n    {\\n      \"id\": 0,\\n      \"name\": \"brook\"\\n    }\\n  ],\\n  \"status\": \"available\"\\n}', '{\\n  \"id\": 875723222,\\n  \"category\": {\\n    \"id\": 3,\\n    \"name\": \"Birds\"\\n  },\\n  \"name\": \"doggie-1755762337724\",\\n  \"photoUrls\": [\\n    \"https://loremflickr.com/30/2474?lock=2413362065320551\"\\n  ],\\n  \"tags\": [\\n    {\\n      \"id\": 0,\\n      \"name\": \"instantly\"\\n    }\\n  ],\\n  \"status\": \"available\"\\n}', '{\\n  \"id\": 1011,\\n  \"category\": {\\n    \"id\": 1,\\n    \"name\": \"Dogs\"\\n  },\\n  \"name\": \"Rex112\",\\n  \"photoUrls\": [\\n    \"http://example.com/photo1.jpg\"\\n  ],\\n  \"tags\": [\\n    {\\n      \"id\": 0,\\n      \"name\": \"friendly\"\\n    }\\n  ],\\n  \"status\": \"available\"\\n}', '{\\n  \"id\": 12,\\n  \"category\": {\\n    \"id\": 1,\\n    \"name\": \"Dogs\"\\n  },\\n  \"name\": \"doggie\",\\n  \"photoUrls\": [\\n    \"string\"\\n  ],\\n  \"tags\": [\\n    {\\n      \"id\": 0,\\n      \"name\": \"string\"\\n    }\\n  ],\\n  \"status\": \"available\"\\n}', '{\\n  \"id\": 9876543219,\\n  \"category\": {\\n    \"id\": 1,\\n    \"name\": \"Peacock02\"\\n  },\\n  \"name\": \"friendly\",\\n  \"photoUrls\": [],\\n  \"tags\": [],\\n  \"status\": \"available\"\\n}', '{\\n  \"id\": 981,\\n  \"category\": {\\n    \"id\": 1,\\n    \"name\": \"Dogs\"\\n  },\\n  \"name\": \"Rex11\",\\n  \"photoUrls\": [\\n    \"http://example.com/photo1.jpg\"\\n  ],\\n  \"tags\": [\\n    {\\n      \"id\": 0,\\n      \"name\": \"friendly\"\\n    }\\n  ],\\n  \"status\": \"available\"\\n}', '{\\n  \"id\": 9876544000,\\n  \"category\": {\\n    \"id\": 1,\\n    \"name\": \"Dogs\"\\n  },\\n  \"name\": \"TestPet1\",\\n  \"photoUrls\": [\\n    \"http://example.com/photo1.jpg\"\\n  ],\\n  \"tags\": [\\n    {\\n      \"id\": 0,\\n      \"name\": \"friendly\"\\n    }\\n  ],\\n  \"status\": \"available\"\\n}', '{\\n  \"id\": 9876544001,\\n  \"category\": {\\n    \"id\": 1,\\n    \"name\": \"Dogs\"\\n  },\\n  \"name\": \"TestPet2\",\\n  \"photoUrls\": [\\n    \"http://example.com/photo1.jpg\"\\n  ],\\n  \"tags\": [\\n    {\\n      \"id\": 0,\\n      \"name\": \"friendly\"\\n    }\\n  ],\\n  \"status\": \"available\"\\n}', '{\\n  \"id\": 7421821873728509033,\\n  \"category\": {\\n    \"id\": 6033824137622562961,\\n    \"name\": \"TO5e3qHfWclW\\'`}inL0j`D!H>Gs$m=}k\"\\n  },\\n  \"name\": \"J2Ep.8nOeOrAE.C;X3%bn:{\\'~8qv16:rPEbUuc\",\\n  \"photoUrls\": [\\n    \")hj<}nB4a|\\'[OFeyXR4]D_ndu!xD]1,gX1NOC\\'EXXHTfL&:uk,>iQ`Neo\"\\n  ],\\n  \"tags\": [\\n    {\\n      \"id\": 7748450266231132752,\\n      \"name\": \"FlOMXrsNLT[Gk`}V,a~4_~nV*V>O%(Yoea[cMFMbyg#3QMf}!\\'4\"\\n    },\\n    {\\n      \"id\": 5205998460737079491,\\n      \"name\": \"h`\\'tn0rm8$Iz4V(L_NMZOW>~z#A7_3X`[Wfot7;`nxVJK\\'WO?Vw\"\\n    },\\n    {\\n      \"id\": 4141596607088499017,\\n      \"name\": \"*W[_v,32PI=*ub47E28l/L3xG2%59A\"\\n    },\\n    {\\n      \"id\": 5896734115128421715,\\n      \"name\": \"v6TZ^kKjMZsAlw{WdGJ/K:IwXYWZPK}P4szR`\"\\n    },\\n    {\\n      \"id\": 3826429181010219135,\\n      \"name\": \"e_$rHw~FzSpFmI?4QNsX#9?WI|U_yLW(OsR`)Ed5D5[H\"\\n    },\\n    {\\n      \"id\": 154618295633078217,\\n      \"name\": \">[_S8F-cwyFSl&>QhWB;^qZRuSs\"\\n    },\\n    {\\n      \"id\": 8352676004819858899,\\n      \"name\": \"\\'(Pb|+<-sy4*Uk{0E&Qu}u85.>|orqzw3GIGn5B4hk3m].Eg6Miwcn=x\"\\n    },\\n    {\\n      \"id\": 6787699214865492597,\\n      \"name\": \"p1K$-yeBt;se&j;#|%O.vXTF%\"\\n    }\\n  ],\\n  \"status\": \"available\"\\n}', '{\\n  \"id\": 441655969751706802,\\n  \"category\": {\\n    \"id\": 6033824137622562961,\\n    \"name\": \"TO5e3qHfWclW\\'`}inL0j`D!H>Gs$m=}k\"\\n  },\\n  \"name\": \"J2Ep.8nOeOrAE.C;X3%bn:{\\'~8qv16:rPEbUuc\",\\n  \"photoUrls\": [\\n    \")hj<}nB4a|\\'[OFeyXR4]D_ndu!xD]1,gX1NOC\\'EXXHTfL&:uk,>iQ`Neo\"\\n  ],\\n  \"tags\": [\\n    {\\n      \"id\": 7748450266231132752,\\n      \"name\": \"FlOMXrsNLT[Gk`}V,a~4_~nV*V>O%(Yoea[cMFMbyg#3QMf}!\\'4\"\\n    },\\n    {\\n      \"id\": 5205998460737079491,\\n      \"name\": \"h`\\'tn0rm8$Iz4V(L_NMZOW>~z#A7_3X`[Wfot7;`nxVJK\\'WO?Vw\"\\n    },\\n    {\\n      \"id\": 4141596607088499017,\\n      \"name\": \"*W[_v,32PI=*ub47E28l/L3xG2%59A\"\\n    },\\n    {\\n      \"id\": 5896734115128421715,\\n      \"name\": \"v6TZ^kKjMZsAlw{WdGJ/K:IwXYWZPK}P4szR`\"\\n    },\\n    {\\n      \"id\": 3826429181010219135,\\n      \"name\": \"e_$rHw~FzSpFmI?4QNsX#9?WI|U_yLW(OsR`)Ed5D5[H\"\\n    },\\n    {\\n      \"id\": 154618295633078217,\\n      \"name\": \">[_S8F-cwyFSl&>QhWB;^qZRuSs\"\\n    },\\n    {\\n      \"id\": 8352676004819858899,\\n      \"name\": \"\\'(Pb|+<-sy4*Uk{0E&Qu}u85.>|orqzw3GIGn5B4hk3m].Eg6Miwcn=x\"\\n    },\\n    {\\n      \"id\": 6787699214865492597,\\n      \"name\": \"p1K$-yeBt;se&j;#|%O.vXTF%\"\\n    }\\n  ],\\n  \"status\": \"available\"\\n}', '{\\n  \"id\": 2223604297581104253,\\n  \"category\": {\\n    \"id\": 6033824137622562961,\\n    \"name\": \"TO5e3qHfWclW\\'`}inL0j`D!H>Gs$m=}k\"\\n  },\\n  \"name\": \"J2Ep.8nOeOrAE.C;X3%bn:{\\'~8qv16:rPEbUuc\",\\n  \"photoUrls\": [\\n    \")hj<}nB4a|\\'[OFeyXR4]D_ndu!xD]1,gX1NOC\\'EXXHTfL&:uk,>iQ`Neo\"\\n  ],\\n  \"tags\": [\\n    {\\n      \"id\": 7748450266231132752,\\n      \"name\": \"FlOMXrsNLT[Gk`}V,a~4_~nV*V>O%(Yoea[cMFMbyg#3QMf}!\\'4\"\\n    },\\n    {\\n      \"id\": 5205998460737079491,\\n      \"name\": \"h`\\'tn0rm8$Iz4V(L_NMZOW>~z#A7_3X`[Wfot7;`nxVJK\\'WO?Vw\"\\n    },\\n    {\\n      \"id\": 4141596607088499017,\\n      \"name\": \"*W[_v,32PI=*ub47E28l/L3xG2%59A\"\\n    },\\n    {\\n      \"id\": 5896734115128421715,\\n      \"name\": \"v6TZ^kKjMZsAlw{WdGJ/K:IwXYWZPK}P4szR`\"\\n    },\\n    {\\n      \"id\": 3826429181010219135,\\n      \"name\": \"e_$rHw~FzSpFmI?4QNsX#9?WI|U_yLW(OsR`)Ed5D5[H\"\\n    },\\n    {\\n      \"id\": 154618295633078217,\\n      \"name\": \">[_S8F-cwyFSl&>QhWB;^qZRuSs\"\\n    },\\n    {\\n      \"id\": 8352676004819858899,\\n      \"name\": \"\\'(Pb|+<-sy4*Uk{0E&Qu}u85.>|orqzw3GIGn5B4hk3m].Eg6Miwcn=x\"\\n    },\\n    {\\n      \"id\": 6787699214865492597,\\n      \"name\": \"p1K$-yeBt;se&j;#|%O.vXTF%\"\\n    }\\n  ],\\n  \"status\": \"available\"\\n}', '{\\n  \"id\": 3472357136717173562,\\n  \"category\": {\\n    \"id\": 6033824137622562961,\\n    \"name\": \"TO5e3qHfWclW\\'`}inL0j`D!H>Gs$m=}k\"\\n  },\\n  \"name\": \"J2Ep.8nOeOrAE.C;X3%bn:{\\'~8qv16:rPEbUuc\",\\n  \"photoUrls\": [\\n    \")hj<}nB4a|\\'[OFeyXR4]D_ndu!xD]1,gX1NOC\\'EXXHTfL&:uk,>iQ`Neo\"\\n  ],\\n  \"tags\": [\\n    {\\n      \"id\": 7748450266231132752,\\n      \"name\": \"FlOMXrsNLT[Gk`}V,a~4_~nV*V>O%(Yoea[cMFMbyg#3QMf}!\\'4\"\\n    },\\n    {\\n      \"id\": 5205998460737079491,\\n      \"name\": \"h`\\'tn0rm8$Iz4V(L_NMZOW>~z#A7_3X`[Wfot7;`nxVJK\\'WO?Vw\"\\n    },\\n    {\\n      \"id\": 4141596607088499017,\\n      \"name\": \"*W[_v,32PI=*ub47E28l/L3xG2%59A\"\\n    },\\n    {\\n      \"id\": 5896734115128421715,\\n      \"name\": \"v6TZ^kKjMZsAlw{WdGJ/K:IwXYWZPK}P4szR`\"\\n    },\\n    {\\n      \"id\": 3826429181010219135,\\n      \"name\": \"e_$rHw~FzSpFmI?4QNsX#9?WI|U_yLW(OsR`)Ed5D5[H\"\\n    },\\n    {\\n      \"id\": 154618295633078217,\\n      \"name\": \">[_S8F-cwyFSl&>QhWB;^qZRuSs\"\\n    },\\n    {\\n      \"id\": 8352676004819858899,\\n      \"name\": \"\\'(Pb|+<-sy4*Uk{0E&Qu}u85.>|orqzw3GIGn5B4hk3m].Eg6Miwcn=x\"\\n    },\\n    {\\n      \"id\": 6787699214865492597,\\n      \"name\": \"p1K$-yeBt;se&j;#|%O.vXTF%\"\\n    }\\n  ],\\n  \"status\": \"available\"\\n}', '{\\n  \"id\": 1681809618250390682,\\n  \"category\": {\\n    \"id\": 5510674269983154181,\\n    \"name\": \"TO5e3qHfWclW\\'`}inL0j`D!H>Gs$m=}k\"\\n  },\\n  \"name\": \"J2Ep.8nOeOrAE.C;X3%bn:{\\'~8qv16:rPEbUuc\",\\n  \"photoUrls\": [\\n    \")hj<}nB4a|\\'[OFeyXR4]D_ndu!xD]1,gX1NOC\\'EXXHTfL&:uk,>iQ`Neo\"\\n  ],\\n  \"tags\": [\\n    {\\n      \"id\": 7748450266231132752,\\n      \"name\": \"FlOMXrsNLT[Gk`}V,a~4_~nV*V>O%(Yoea[cMFMbyg#3QMf}!\\'4\"\\n    },\\n    {\\n      \"id\": 5205998460737079491,\\n      \"name\": \"h`\\'tn0rm8$Iz4V(L_NMZOW>~z#A7_3X`[Wfot7;`nxVJK\\'WO?Vw\"\\n    },\\n    {\\n      \"id\": 4141596607088499017,\\n      \"name\": \"*W[_v,32PI=*ub47E28l/L3xG2%59A\"\\n    },\\n    {\\n      \"id\": 5896734115128421715,\\n      \"name\": \"v6TZ^kKjMZsAlw{WdGJ/K:IwXYWZPK}P4szR`\"\\n    },\\n    {\\n      \"id\": 3826429181010219135,\\n      \"name\": \"e_$rHw~FzSpFmI?4QNsX#9?WI|U_yLW(OsR`)Ed5D5[H\"\\n    },\\n    {\\n      \"id\": 154618295633078217,\\n      \"name\": \">[_S8F-cwyFSl&>QhWB;^qZRuSs\"\\n    },\\n    {\\n      \"id\": 8352676004819858899,\\n      \"name\": \"\\'(Pb|+<-sy4*Uk{0E&Qu}u85.>|orqzw3GIGn5B4hk3m].Eg6Miwcn=x\"\\n    },\\n    {\\n      \"id\": 6787699214865492597,\\n      \"name\": \"p1K$-yeBt;se&j;#|%O.vXTF%\"\\n    }\\n  ],\\n  \"status\": \"available\"\\n}', '{\\n  \"id\": 2259746515274549703,\\n  \"category\": {\\n    \"id\": 9015629222080489682,\\n    \"name\": \"IMt`iCzSK\\'F&mi0l,m]-x;2.yx0mu.-&%:\"\\n  },\\n  \"name\": \"2s]%c:WXEO)_he]O[MP{LGJqTr&iJl2;\",\\n  \"photoUrls\": [\\n    \"\",\\n    \"xnX8.L]>0[o(ycy!x8$;mr`he5(/Lfu1kL\\'&3PhIn}!apVf;\\'Iz7r\"\\n  ],\\n  \"tags\": [\\n    {\\n      \"id\": 8419818661410538730,\\n      \"name\": \"v,IS1=}^z^_\"\\n    },\\n    {\\n      \"id\": 485008238951618354,\\n      \"name\": \"\\'3&z#O:KbT8_\"\\n    },\\n    {\\n      \"id\": 201785439388497282,\\n      \"name\": \"R\"\\n    },\\n    {\\n      \"id\": 8995789528023254489,\\n      \"name\": \"ZSUsKMZnUd3Y[dKmFxX8|;^KGf1jTfYhb|?<s>=D-UpR^wTF6guyEE.>|K_y\"\\n    },\\n    {\\n      \"id\": 6196440787861910096,\\n      \"name\": \"a^<\"\\n    }\\n  ],\\n  \"status\": \"available\"\\n}', '{\\n  \"id\": 9876543216,\\n  \"category\": {\\n    \"id\": 1,\\n    \"name\": \"Peacock02_up\"\\n  },\\n  \"name\": \"Peacock02_up\",\\n  \"photoUrls\": [\\n    \"http://example.com/photo1.jpg\"\\n  ],\\n  \"tags\": [\\n    {\\n      \"id\": 0,\\n      \"name\": \"friendly\"\\n    }\\n  ],\\n  \"status\": \"available\"\\n}', '{\\n  \"id\": 12345,\\n  \"category\": {\\n    \"id\": 1,\\n    \"name\": \"dog\"\\n  },\\n  \"photoUrls\": [\\n    \"https://example.com/photo.jpg\"\\n  ],\\n  \"tags\": [\\n    {\\n      \"id\": 1,\\n      \"name\": \"tag1\"\\n    }\\n  ],\\n  \"status\": \"available\"\\n}', '{\\n  \"id\": 97,\\n  \"category\": {\\n    \"id\": 1,\\n    \"name\": \"Dogs\"\\n  },\\n  \"name\": \"Cheb\",\\n  \"photoUrls\": [\\n    \"string\"\\n  ],\\n  \"tags\": [\\n    {\\n      \"id\": 0,\\n      \"name\": \"string\"\\n    }\\n  ],\\n  \"status\": \"available\"\\n}', '{\\n  \"id\": 101010,\\n  \"category\": {\\n    \"id\": 1,\\n    \"name\": \"Peacock02\"\\n  },\\n  \"name\": \"<name>\",\\n  \"photoUrls\": [\\n    \"http://example.com/photo1.jpg\"\\n  ],\\n  \"tags\": [\\n    {\\n      \"id\": 0,\\n      \"name\": \"friendly\"\\n    }\\n  ],\\n  \"status\": \"available\"\\n}', '{\\n  \"id\": 101011,\\n  \"category\": {\\n    \"id\": 1,\\n    \"name\": \"Peacock02\"\\n  },\\n  \"name\": \"<name>\",\\n  \"photoUrls\": [\\n    \"http://example.com/photo1.jpg\"\\n  ],\\n  \"tags\": [\\n    {\\n      \"id\": 0,\\n      \"name\": \"friendly\"\\n    }\\n  ],\\n  \"status\": \"available\"\\n}', '{\\n  \"id\": 32049,\\n  \"category\": {\\n    \"id\": 1,\\n    \"name\": \"Dogs\"\\n  },\\n  \"name\": \"TestPet2\",\\n  \"photoUrls\": [\\n    \"https://example.com/photo.jpg\"\\n  ],\\n  \"tags\": [\\n    {\\n      \"id\": 1,\\n      \"name\": \"friendly\"\\n    }\\n  ],\\n  \"status\": \"available\"\\n}', '{\\n  \"id\": 58381,\\n  \"category\": {\\n    \"id\": 1,\\n    \"name\": \"Dogs\"\\n  },\\n  \"name\": \"TestPet3\",\\n  \"photoUrls\": [\\n    \"https://example.com/photo.jpg\"\\n  ],\\n  \"tags\": [\\n    {\\n      \"id\": 1,\\n      \"name\": \"friendly\"\\n    }\\n  ],\\n  \"status\": \"available\"\\n}', '{\\n  \"id\": 16575,\\n  \"category\": {\\n    \"id\": 1,\\n    \"name\": \"Dogs\"\\n  },\\n  \"name\": \"TestPet5\",\\n  \"photoUrls\": [\\n    \"https://example.com/photo.jpg\"\\n  ],\\n  \"tags\": [\\n    {\\n      \"id\": 1,\\n      \"name\": \"friendly\"\\n    }\\n  ],\\n  \"status\": \"available\"\\n}', '{\\n  \"id\": 2,\\n  \"category\": {\\n    \"id\": 0,\\n    \"name\": \"Cats\"\\n  },\\n  \"name\": \"Updated Kitty\",\\n  \"photoUrls\": [\\n    \"string\",\\n    \"/tmp/inflector6607994415094766982.tmp\",\\n    \"/tmp/inflector9829030739646445544.tmp\"\\n  ],\\n  \"tags\": [\\n    {\\n      \"id\": 0,\\n      \"name\": \"string\"\\n    }\\n  ],\\n  \"status\": \"available\"\\n}', '{\\n  \"id\": 9,\\n  \"category\": {\\n    \"id\": 1,\\n    \"name\": \"Dogs\"\\n  },\\n  \"name\": \"doggie\",\\n  \"photoUrls\": [\\n    \"string\"\\n  ],\\n  \"tags\": [\\n    {\\n      \"id\": 0,\\n      \"name\": \"string\"\\n    }\\n  ],\\n  \"status\": \"available\"\\n}', '{\\n  \"id\": 6,\\n  \"name\": \"dog\",\\n  \"photoUrls\": [\\n    \"https://petstore3.swagger.io/resources/photos/623389095.jpg\"\\n  ],\\n  \"tags\": [],\\n  \"status\": \"available\"\\n}', '{\\n  \"id\": 987654211,\\n  \"category\": {\\n    \"id\": 2,\\n    \"name\": \"Cat\"\\n  },\\n  \"name\": \"RexCat\",\\n  \"photoUrls\": [\\n    \"http://example.com/photo2.jpg\"\\n  ],\\n  \"tags\": [\\n    {\\n      \"id\": 11,\\n      \"name\": \"friendlyCat\"\\n    }\\n  ],\\n  \"status\": \"available\"\\n}', '{\\n  \"id\": 100,\\n  \"category\": {\\n    \"id\": 0\\n  },\\n  \"name\": \"Puffy\",\\n  \"photoUrls\": [],\\n  \"tags\": [],\\n  \"status\": \"available\"\\n}', '{\\n  \"id\": 4,\\n  \"category\": {\\n    \"id\": 1,\\n    \"name\": \"3es\"\\n  },\\n  \"name\": \"sss\",\\n  \"photoUrls\": [\\n    \"string\"\\n  ],\\n  \"tags\": [\\n    {\\n      \"id\": 0,\\n      \"name\": \"string\"\\n    }\\n  ],\\n  \"status\": \"available\"\\n}', '{\\n  \"id\": 101,\\n  \"category\": {\\n    \"id\": 1,\\n    \"name\": \"Dogs\"\\n  },\\n  \"name\": \"puppy\",\\n  \"photoUrls\": [],\\n  \"tags\": [\\n    {\\n      \"id\": 1,\\n      \"name\": \"puppy\"\\n    },\\n    {\\n      \"id\": 2,\\n      \"name\": \"cute\"\\n    },\\n    {\\n      \"id\": 3,\\n      \"name\": \"white\"\\n    }\\n  ],\\n  \"status\": \"available\"\\n}', '{\\n  \"id\": 0,\\n  \"category\": {\\n    \"id\": 0,\\n    \"name\": \"cats\"\\n  },\\n  \"name\": \"Mimi\",\\n  \"photoUrls\": [\\n    \"string\"\\n  ],\\n  \"tags\": [\\n    {\\n      \"id\": 0,\\n      \"name\": \"string\"\\n    }\\n  ],\\n  \"status\": \"available\"\\n}', '{\\n  \"id\": 102,\\n  \"category\": {\\n    \"id\": 2,\\n    \"name\": \"Cats\"\\n  },\\n  \"name\": \"Fuffy\",\\n  \"photoUrls\": [\\n    \"https://huggingface.co/datasets/arturomontieri/testdata/resolve/main/my_pet.jpg\",\\n    \"/tmp/inflector16191497090536434811.tmp\"\\n  ],\\n  \"tags\": [\\n    {\\n      \"id\": 1,\\n      \"name\": \"cat\"\\n    },\\n    {\\n      \"id\": 2,\\n      \"name\": \"fluffy\"\\n    },\\n    {\\n      \"id\": 3,\\n      \"name\": \"cute\"\\n    }\\n  ],\\n  \"status\": \"available\"\\n}', '{\\n  \"id\": 130,\\n  \"category\": {\\n    \"id\": 131,\\n    \"name\": \"Boa\"\\n  },\\n  \"name\": \"Kaa\",\\n  \"photoUrls\": [\\n    \"https://commons.wikimedia.org/wiki/File:Boa_constrictor_(2).jpg?uselang=ru\"\\n  ],\\n  \"tags\": [\\n    {\\n      \"id\": 0,\\n      \"name\": \"string\"\\n    }\\n  ],\\n  \"status\": \"available\"\\n}', '{\\n  \"id\": 325,\\n  \"category\": {\\n    \"id\": 325,\\n    \"name\": \"OpenAPI30\"\\n  },\\n  \"name\": \"OpenAPI30\",\\n  \"photoUrls\": [\\n    \"string\"\\n  ],\\n  \"tags\": [\\n    {\\n      \"id\": 325,\\n      \"name\": \"OpenAPI30\"\\n    }\\n  ],\\n  \"status\": \"available\"\\n}', '{\\n  \"id\": 5466571942823154045,\\n  \"category\": {\\n    \"id\": 3834634386530749130,\\n    \"name\": \"]\"\\n  },\\n  \"name\": \"GYUhj\",\\n  \"photoUrls\": [],\\n  \"tags\": [\\n    {\\n      \"id\": 1672594070340190755,\\n      \"name\": \"9*YhPS(|6AK|\"\\n    },\\n    {\\n      \"id\": 3554721767880045810,\\n      \"name\": \"T+Y_[]^8*Q>a>(Mp-.$st|~>-COs`7\"\\n    },\\n    {\\n      \"id\": 6830072031469357972,\\n      \"name\": \"hx8rn/;e\"\\n    },\\n    {\\n      \"id\": 5416315381749576324,\\n      \"name\": \"f6+\\'wPcBT=A*EHU_>,`8]CR1J$1xL0I5SwKIF#EZ*2y)|3`\"\\n    },\\n    {\\n      \"id\": 4425730974607493960,\\n      \"name\": \"El<3i:$2V\"\\n    },\\n    {\\n      \"id\": 7829897343069589926,\\n      \"name\": \"?[q,o[+\\'DQedc9f&!$EnGLG(<&q=\"\\n    },\\n    {\\n      \"id\": 6092707722028244087,\\n      \"name\": \"9/>Z>)J2A5+W{z4#;1cf<^IBJS\"\\n    }\\n  ],\\n  \"status\": \"available\"\\n}', '{\\n  \"id\": 8446666196130147922,\\n  \"category\": {\\n    \"id\": 3834634386530749130,\\n    \"name\": \"]\"\\n  },\\n  \"name\": \"GYUhj\",\\n  \"photoUrls\": [],\\n  \"tags\": [\\n    {\\n      \"id\": 1672594070340190755,\\n      \"name\": \"9*YhPS(|6AK|\"\\n    },\\n    {\\n      \"id\": 3554721767880045810,\\n      \"name\": \"T+Y_[]^8*Q>a>(Mp-.$st|~>-COs`7\"\\n    },\\n    {\\n      \"id\": 6830072031469357972,\\n      \"name\": \"hx8rn/;e\"\\n    },\\n    {\\n      \"id\": 5416315381749576324,\\n      \"name\": \"f6+\\'wPcBT=A*EHU_>,`8]CR1J$1xL0I5SwKIF#EZ*2y)|3`\"\\n    },\\n    {\\n      \"id\": 4425730974607493960,\\n      \"name\": \"El<3i:$2V\"\\n    },\\n    {\\n      \"id\": 7829897343069589926,\\n      \"name\": \"?[q,o[+\\'DQedc9f&!$EnGLG(<&q=\"\\n    },\\n    {\\n      \"id\": 6092707722028244087,\\n      \"name\": \"9/>Z>)J2A5+W{z4#;1cf<^IBJS\"\\n    }\\n  ],\\n  \"status\": \"available\"\\n}', '{\\n  \"id\": 8433295401547120594,\\n  \"category\": {\\n    \"id\": 3834634386530749130,\\n    \"name\": \"]\"\\n  },\\n  \"name\": \"GYUhjc_,=m\",\\n  \"photoUrls\": [],\\n  \"tags\": [\\n    {\\n      \"id\": 1672594070340190755,\\n      \"name\": \"9*YhPS(|6AK|\"\\n    },\\n    {\\n      \"id\": 3554721767880045810,\\n      \"name\": \"T+Y_[]^8*Q>a>(Mp-.$st|~>-COs`7\"\\n    },\\n    {\\n      \"id\": 6830072031469357972,\\n      \"name\": \"hx8rn/;e\"\\n    },\\n    {\\n      \"id\": 5416315381749576324,\\n      \"name\": \"f6+\\'wPcBT=A*EHU_>,`8]CR1J$1xL0I5SwKIF#EZ*2y)|3`\"\\n    },\\n    {\\n      \"id\": 4425730974607493960,\\n      \"name\": \"El<3i:$2V\"\\n    },\\n    {\\n      \"id\": 7829897343069589926,\\n      \"name\": \"?[q,o[+\\'DQedc9f&!$EnGLG(<&q=\"\\n    },\\n    {\\n      \"id\": 6092707722028244087,\\n      \"name\": \"9/>Z>)J2A5+W{z4#;1cf<^IBJS\"\\n    }\\n  ],\\n  \"status\": \"available\"\\n}', '{\\n  \"id\": -1,\\n  \"category\": {\\n    \"id\": 1,\\n    \"name\": \"Dogs\"\\n  },\\n  \"name\": \"doggie\",\\n  \"photoUrls\": [\\n    \"string\"\\n  ],\\n  \"tags\": [\\n    {\\n      \"id\": 0,\\n      \"name\": \"string\"\\n    }\\n  ],\\n  \"status\": \"available\"\\n}', '{\\n  \"id\": 55,\\n  \"category\": {\\n    \"id\": 55,\\n    \"name\": \"Тузик\"\\n  },\\n  \"name\": \"doggie\",\\n  \"photoUrls\": [\\n    \"string\"\\n  ],\\n  \"tags\": [\\n    {\\n      \"id\": 0,\\n      \"name\": \"string\"\\n    }\\n  ],\\n  \"status\": \"available\"\\n}', '{\\n  \"id\": 91,\\n  \"category\": {\\n    \"id\": 32,\\n    \"name\": \"cats\"\\n  },\\n  \"name\": \"kurva\",\\n  \"photoUrls\": [],\\n  \"tags\": [],\\n  \"status\": \"available\"\\n}', '{\\n  \"id\": 89070657,\\n  \"category\": {\\n    \"id\": 1,\\n    \"name\": \"Dogs\"\\n  },\\n  \"name\": \"Nubeluz\",\\n  \"photoUrls\": [\\n    \"string\"\\n  ],\\n  \"tags\": [\\n    {\\n      \"id\": 1,\\n      \"name\": \"golden\"\\n    }\\n  ],\\n  \"status\": \"available\"\\n}', '{\\n  \"id\": 1287138758235,\\n  \"name\": \"Woofy Mc Woof\",\\n  \"photoUrls\": [],\\n  \"tags\": [],\\n  \"status\": \"available\"\\n}', '{\\n  \"id\": 10,\\n  \"category\": {\\n    \"id\": 1,\\n    \"name\": \"Dogs\"\\n  },\\n  \"name\": \"doggie\",\\n  \"photoUrls\": [\\n    \"string\"\\n  ],\\n  \"tags\": [\\n    {\\n      \"id\": 0,\\n      \"name\": \"string\"\\n    }\\n  ],\\n  \"status\": \"available\"\\n}', '{\\n  \"id\": 999,\\n  \"name\": \"test\",\\n  \"photoUrls\": [],\\n  \"tags\": [],\\n  \"status\": \"available\"\\n}', '{\\n  \"id\": 1,\\n  \"name\": \"Pet1\",\\n  \"photoUrls\": [\\n    \"test1\",\\n    \"test2\"\\n  ],\\n  \"tags\": [],\\n  \"status\": \"available\"\\n}']\n"
     ]
    }
   ],
   "source": [
    "# get current time\n",
    "time_tool = [t for t in tools if t.name == \"getCurrentTime\"][0]\n",
    "result = await time_tool.arun({})\n",
    "print(\"Time tool result:\", result)\n",
    "\n",
    "# fetch pets\n",
    "pet_tool = [t for t in tools if t.name == \"fetch_petsByStatus\"][0]\n",
    "result = await pet_tool.arun({\"status\": \"available\"})\n",
    "print(\"Pet tool result:\", result)"
   ]
  },
  {
   "cell_type": "code",
   "execution_count": null,
   "id": "5769f1f8-bcc3-4d84-8aa5-b6256b4689e3",
   "metadata": {},
   "outputs": [],
   "source": []
  }
 ],
 "metadata": {
  "kernelspec": {
   "display_name": "Python 3 (ipykernel)",
   "language": "python",
   "name": "python3"
  },
  "language_info": {
   "codemirror_mode": {
    "name": "ipython",
    "version": 3
   },
   "file_extension": ".py",
   "mimetype": "text/x-python",
   "name": "python",
   "nbconvert_exporter": "python",
   "pygments_lexer": "ipython3",
   "version": "3.13.7"
  }
 },
 "nbformat": 4,
 "nbformat_minor": 5
}
